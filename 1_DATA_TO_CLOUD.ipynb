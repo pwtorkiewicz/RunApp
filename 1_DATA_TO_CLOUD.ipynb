{
 "cells": [
  {
   "cell_type": "code",
   "execution_count": 1,
   "id": "8f35de85",
   "metadata": {},
   "outputs": [],
   "source": [
    "from dotenv import load_dotenv\n",
    "import boto3\n",
    "import os"
   ]
  },
  {
   "cell_type": "code",
   "execution_count": 2,
   "id": "31a61306",
   "metadata": {},
   "outputs": [
    {
     "data": {
      "text/plain": [
       "True"
      ]
     },
     "execution_count": 2,
     "metadata": {},
     "output_type": "execute_result"
    }
   ],
   "source": [
    "load_dotenv()"
   ]
  },
  {
   "cell_type": "code",
   "execution_count": 3,
   "id": "a87c8e7c",
   "metadata": {},
   "outputs": [],
   "source": [
    "s3 = boto3.client(\n",
    "    \"s3\",\n",
    ")"
   ]
  },
  {
   "cell_type": "code",
   "execution_count": 4,
   "id": "91a0c234",
   "metadata": {},
   "outputs": [],
   "source": [
    "BUCKET_NAME = \"civil-eng\""
   ]
  },
  {
   "cell_type": "code",
   "execution_count": 5,
   "id": "94601c8b",
   "metadata": {},
   "outputs": [],
   "source": [
    "Dane_in_spaces = \"RunModel/Dane/\""
   ]
  },
  {
   "cell_type": "code",
   "execution_count": 6,
   "id": "27b1b261",
   "metadata": {},
   "outputs": [
    {
     "name": "stdout",
     "output_type": "stream",
     "text": [
      "Wysyłam plik Dane\\halfmarathon_wroclaw_2023_2024__final.csv do RunModel/Dane/halfmarathon_wroclaw_2023_2024__final.csv\n",
      "Wysyłam plik Dane\\halfmarathon_wroclaw_2023__final.csv do RunModel/Dane/halfmarathon_wroclaw_2023__final.csv\n",
      "Wysyłam plik Dane\\halfmarathon_wroclaw_2024__final.csv do RunModel/Dane/halfmarathon_wroclaw_2024__final.csv\n"
     ]
    }
   ],
   "source": [
    "# Wysyłanie surowych danych do Digital Ocean Spaces\n",
    "for root, dirs, files in os.walk(\"Dane\"):\n",
    "    for file in files:\n",
    "        file_path = os.path.join(root, file)\n",
    "        s3_path = Dane_in_spaces+file\n",
    "        print(f\"Wysyłam plik {os.path.join(root, file)} do {s3_path}\") \n",
    "        s3.upload_file(\n",
    "            Filename=file_path,\n",
    "            Bucket=BUCKET_NAME,\n",
    "            Key=s3_path\n",
    "        )"
   ]
  },
  {
   "cell_type": "code",
   "execution_count": null,
   "id": "94d2fe87",
   "metadata": {},
   "outputs": [],
   "source": []
  }
 ],
 "metadata": {
  "kernelspec": {
   "display_name": "od_zera_do_ai",
   "language": "python",
   "name": "python3"
  },
  "language_info": {
   "codemirror_mode": {
    "name": "ipython",
    "version": 3
   },
   "file_extension": ".py",
   "mimetype": "text/x-python",
   "name": "python",
   "nbconvert_exporter": "python",
   "pygments_lexer": "ipython3",
   "version": "3.11.11"
  }
 },
 "nbformat": 4,
 "nbformat_minor": 5
}
